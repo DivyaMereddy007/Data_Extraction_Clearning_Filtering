{
 "cells": [
  {
   "cell_type": "code",
   "execution_count": 1,
   "metadata": {},
   "outputs": [
    {
     "ename": "InterfaceError",
     "evalue": "('IM002', '[IM002] [Microsoft][ODBC Driver Manager] Data source name not found and no default driver specified (0) (SQLDriverConnect)')",
     "output_type": "error",
     "traceback": [
      "\u001b[1;31m---------------------------------------------------------------------------\u001b[0m",
      "\u001b[1;31mInterfaceError\u001b[0m                            Traceback (most recent call last)",
      "\u001b[1;32m<ipython-input-1-a3541ea3e391>\u001b[0m in \u001b[0;36m<module>\u001b[1;34m()\u001b[0m\n\u001b[0;32m     10\u001b[0m \u001b[1;31m# Stored Procedure Call Statement\u001b[0m\u001b[1;33m\u001b[0m\u001b[1;33m\u001b[0m\u001b[0m\n\u001b[0;32m     11\u001b[0m \u001b[0msqlExecSP\u001b[0m\u001b[1;33m=\u001b[0m\u001b[1;34m\"{call pySelect_Records}\"\u001b[0m\u001b[1;33m\u001b[0m\u001b[0m\n\u001b[1;32m---> 12\u001b[1;33m \u001b[0mcnxn\u001b[0m \u001b[1;33m=\u001b[0m \u001b[0mpyodbc\u001b[0m\u001b[1;33m.\u001b[0m\u001b[0mconnect\u001b[0m\u001b[1;33m(\u001b[0m\u001b[0mdriver\u001b[0m \u001b[1;33m=\u001b[0m \u001b[1;34m'{}'\u001b[0m\u001b[1;33m,\u001b[0m \u001b[0mserver\u001b[0m \u001b[1;33m=\u001b[0m \u001b[1;34m'mydb.czn0ikqqwq9e.us-east-1.rds.amazonaws.com,1433'\u001b[0m\u001b[1;33m,\u001b[0m \u001b[0mdatabase\u001b[0m \u001b[1;33m=\u001b[0m \u001b[1;34m'mydb'\u001b[0m\u001b[1;33m,\u001b[0m\u001b[0muid\u001b[0m \u001b[1;33m=\u001b[0m \u001b[1;34m'Divya'\u001b[0m\u001b[1;33m,\u001b[0m \u001b[0mpwd\u001b[0m \u001b[1;33m=\u001b[0m \u001b[1;34m'abcdef123'\u001b[0m\u001b[1;33m)\u001b[0m\u001b[1;33m\u001b[0m\u001b[0m\n\u001b[0m\u001b[0;32m     13\u001b[0m \u001b[1;31m#cnxn = pyodbc.connect(driver = '{SQL Server}', server = 'mydb.czn0ikqqwq9e.us-east-1.rds.amazonaws.com,1433', database = 'mydb', uid = 'Divya', pwd = 'abcedef123',autocommit=True)\u001b[0m\u001b[1;33m\u001b[0m\u001b[1;33m\u001b[0m\u001b[0m\n\u001b[0;32m     14\u001b[0m \u001b[1;31m#trusted_connection='yes'\u001b[0m\u001b[1;33m\u001b[0m\u001b[1;33m\u001b[0m\u001b[0m\n",
      "\u001b[1;31mInterfaceError\u001b[0m: ('IM002', '[IM002] [Microsoft][ODBC Driver Manager] Data source name not found and no default driver specified (0) (SQLDriverConnect)')"
     ]
    }
   ],
   "source": [
    "#creating stored procedure in python it self and running\n",
    "\n",
    "import pyodbc\n",
    "\n",
    "# Stored Procedure Create Statement\n",
    "sqlCreateSP=\"CREATE PROCEDURE pySelect_Records AS SELECT TOP (1000) [id],[id_formatted],[user_id],[stype],[xid],[created_date],\\\n",
    "    [signout_date] FROM [5-united].[dbo].[TBL_SESSION]where user_id=503 and signout_date is null\"\n",
    "\n",
    "# Stored Procedure Drop Statement\n",
    "sqlDropSP=\"IF EXISTS (SELECT * FROM sys.objects \\\n",
    "           WHERE type='P' AND name='pySelect_Records') \\\n",
    "           DROP PROCEDURE pySelect_Records\"\n",
    "# Stored Procedure Call Statement\n",
    "sqlExecSP=\"{call pySelect_Records}\"\n",
    "cnxn = pyodbc.connect(driver = '{SQL Server}', server = 'mydb.czn0ikqqwq9e.us-east-1.rds.amazonaws.com,1433', database = 'mydb',uid = 'Divya', pwd = 'abcdef123')\n",
    "#cnxn = pyodbc.connect(driver = '{SQL Server}', server = 'mydb.czn0ikqqwq9e.us-east-1.rds.amazonaws.com,1433', database = 'mydb', uid = 'Divya', pwd = 'abcedef123',autocommit=True)\n",
    "#trusted_connection='yes'\n",
    "cursor = cnxn.cursor()\n",
    "#drop if already exsists\n",
    "cursor.execute(sqlDropSP)\n",
    "cursor.execute(sqlCreateSP)\n",
    "cursor.execute(sqlExecSP)\n",
    "cursor.fetchall()"
   ]
  },
  {
   "cell_type": "code",
   "execution_count": null,
   "metadata": {},
   "outputs": [],
   "source": [
    "#running already exsisting stored procedure -1 way\n",
    "sql = \"\"\"\n",
    "EXEC   [dbo].[sp_Job_Qualification_Repair_Log]\n",
    "        @sessionid = N'6ee19a5dc73c46368ab4cd86d330a15b',\n",
    "        @startdate = '6/11/2018',\n",
    "        @enddate = '6/11/2018',\n",
    "        @user_location_id = N'-1'\n",
    "\"\"\"\n",
    "num=cursor.execute(sql)\n",
    "cursor.fetchall()"
   ]
  },
  {
   "cell_type": "code",
   "execution_count": null,
   "metadata": {},
   "outputs": [],
   "source": [
    "#just calliing efficient as per me\n",
    "sqlExecSP=\"{call [5-united].[dbo].sp_Job_Qualification_Repair_Log (N'6ee19a5dc73c46368ab4cd86d330a15b','6/11/2018','6/11/2018',,,,,,N'-1',)}\""
   ]
  },
  {
   "cell_type": "code",
   "execution_count": null,
   "metadata": {},
   "outputs": [],
   "source": [
    "cursor.execute(sqlExecSP)"
   ]
  },
  {
   "cell_type": "code",
   "execution_count": null,
   "metadata": {},
   "outputs": [],
   "source": [
    "results=cursor.fetchall()"
   ]
  },
  {
   "cell_type": "code",
   "execution_count": null,
   "metadata": {},
   "outputs": [],
   "source": [
    "column_names=['startdate','enddate','rolls','lf','product_location','is_green','is_red','pad_name','recent_status','status_id','stage_id','job_id','id','po_num','customer_name','date_received','customer_phone1','store_number','store_name_num','install_date','qual_desc','install_time','install_end_date','workload_measurement','installer_id','is_dispatched','survey_completed','customer_address','installer_name','wo_id','install_id','location_name']"
   ]
  },
  {
   "cell_type": "code",
   "execution_count": null,
   "metadata": {},
   "outputs": [],
   "source": [
    "_build_data_frame(results, column_names)"
   ]
  },
  {
   "cell_type": "code",
   "execution_count": null,
   "metadata": {},
   "outputs": [],
   "source": [
    "import pandas as pd\n",
    "def _build_data_frame(data, column_names):\n",
    "        dictionary = {str(column): [] for column in column_names}\n",
    "        for data_row in data:\n",
    "            for i, data_point in enumerate(data_row):\n",
    "                dictionary[column_names[i]].append(data_point)\n",
    "        return pd.DataFrame.from_dict(dictionary)"
   ]
  },
  {
   "cell_type": "code",
   "execution_count": null,
   "metadata": {},
   "outputs": [],
   "source": [
    "#running a query directly using pyodbc\n",
    "query='\\\n",
    "SELECT TOP (1000) [id]\\\n",
    "      ,[id_formatted]\\\n",
    "      ,[user_id]\\\n",
    "      ,[stype]\\\n",
    "      ,[xid]\\\n",
    "      ,[created_date]\\\n",
    "      ,[signout_date]\\\n",
    "  FROM [5-united].[dbo].[TBL_SESSION]\\\n",
    "  where user_id=503'\n",
    "cursor.execute(query)"
   ]
  },
  {
   "cell_type": "code",
   "execution_count": null,
   "metadata": {},
   "outputs": [],
   "source": [
    "cursor.fetchall()"
   ]
  },
  {
   "cell_type": "code",
   "execution_count": null,
   "metadata": {},
   "outputs": [],
   "source": [
    "#other way of fetching stored procedure data\n",
    "sessionid = '6ee19a5dc73c46368ab4cd86d330a15b' \n",
    "startdate = '6/10/2017'\n",
    "enddate = '6/11/2018'\n",
    "user_location_id = '-1'\n",
    "\n",
    "sql = \"\"\"\\\n",
    "\n",
    "DECLARE @return_value int;\n",
    "\n",
    "EXEC    @return_value = [5-united].[dbo].[sp_Job_Qualification_Repair_Log] @sessionid=?,@startdate=?,@enddate=?,@user_location_id=?;\n",
    "\n",
    "SELECT  @return_value as Return_Value;\n",
    "\"\"\" \n",
    "values = (sessionid,startdate,enddate,user_location_id)\n",
    "cursor.execute(sql, values)"
   ]
  },
  {
   "cell_type": "code",
   "execution_count": null,
   "metadata": {},
   "outputs": [],
   "source": [
    "cursor.fetchall() "
   ]
  },
  {
   "cell_type": "code",
   "execution_count": null,
   "metadata": {},
   "outputs": [],
   "source": [
    "with pymssql.connect(server, user, password, \"tempdb\") as conn:\n",
    "    with conn.cursor(as_dict=True) as cursor:\n",
    "        cursor.execute(\"\"\"\n",
    "        CREATE PROCEDURE FindPerson\n",
    "            @name VARCHAR(100)\n",
    "        AS BEGIN\n",
    "            SELECT * FROM persons WHERE name = @name\n",
    "        END\n",
    "        \"\"\")\n",
    "        cursor.callproc('FindPerson', ('Jane Doe',))\n",
    "        for row in cursor:\n",
    "            print(\"ID=%d, Name=%s\" % (row['id'], row['name']))"
   ]
  }
 ],
 "metadata": {
  "kernelspec": {
   "display_name": "Python 3",
   "language": "python",
   "name": "python3"
  },
  "language_info": {
   "codemirror_mode": {
    "name": "ipython",
    "version": 3
   },
   "file_extension": ".py",
   "mimetype": "text/x-python",
   "name": "python",
   "nbconvert_exporter": "python",
   "pygments_lexer": "ipython3",
   "version": "3.6.4"
  }
 },
 "nbformat": 4,
 "nbformat_minor": 2
}
